{
 "cells": [
  {
   "attachments": {},
   "cell_type": "markdown",
   "metadata": {},
   "source": [
    "# WEBSCRAPING NOTÍCIAS VERDADEIRAS"
   ]
  },
  {
   "cell_type": "code",
   "execution_count": 27,
   "metadata": {},
   "outputs": [],
   "source": [
    "from bs4 import BeautifulSoup\n",
    "import requests\n",
    "from urllib.parse import urlparse, urljoin\n",
    "import time\n",
    "import pandas as pd\n",
    "import time\n",
    "import random\n",
    "\n",
    "\n"
   ]
  },
  {
   "cell_type": "code",
   "execution_count": 30,
   "metadata": {},
   "outputs": [
    {
     "name": "stdout",
     "output_type": "stream",
     "text": [
      "147\n",
      "194\n",
      "241\n",
      "288\n",
      "335\n",
      "382\n",
      "429\n",
      "476\n",
      "523\n",
      "570\n",
      "617\n",
      "664\n",
      "711\n",
      "758\n",
      "805\n",
      "852\n",
      "899\n",
      "946\n",
      "993\n",
      "1040\n"
     ]
    }
   ],
   "source": [
    "\n",
    "noticias_true = []\n",
    "\n",
    "i = 100\n",
    "\n",
    "# URL do site\n",
    "url = 'https://noticias.uol.com.br/politica/?next=0001H4316U100N'\n",
    "\n",
    "while i < 999:\n",
    "\n",
    "    url = f'https://noticias.uol.com.br/politica/?next=0001H4316U{i}N'\n",
    "    i += 47\n",
    "\n",
    "    delay = random.uniform(3, 5)\n",
    "    time.sleep(delay)\n",
    "    \n",
    "    # Faz a requisição HTTP\n",
    "    response = requests.get(url)\n",
    "\n",
    "    if response.status_code != 200:\n",
    "        print(f'Site não está respondendo, status code: {response.status_code}')\n",
    "        break\n",
    "    # Faz a requisição HTTP\n",
    "    response = requests.get(url)\n",
    "\n",
    "    # Analisa o HTML usando a biblioteca BeautifulSoup\n",
    "    soup = BeautifulSoup(response.text, 'html.parser')\n",
    "\n",
    "    # Encontra a div com a classe 'container'\n",
    "    div = soup.find('div', class_='flex-wrap')\n",
    "\n",
    "    # Encontra todos os elementos 'a' dentro da div\n",
    "    a_tags = div.find_all('a')\n",
    "\n",
    "    # Obtém os valores do atributo 'href' de cada elemento 'a'\n",
    "    hrefs = [a['href'] for a in a_tags]\n",
    "    print(i)\n",
    "    # Imprime os valores obtidos\n",
    "    for href in hrefs:\n",
    "        # Atraso aleatório entre 3 e 5 segundos\n",
    "        delay = random.uniform(3, 5)\n",
    "        time.sleep(delay)\n",
    "        try:\n",
    "            response = requests.get(href)\n",
    "            html = response.content\n",
    "\n",
    "            # Analisa o HTML usando a biblioteca BeautifulSoup\n",
    "            soup = BeautifulSoup(html, 'html.parser')\n",
    "\n",
    "            # Encontra todas as divs da página\n",
    "            div = soup.find('div', class_='text')\n",
    "\n",
    "            p_tags = div.find_all('p')\n",
    "\n",
    "            # Obtém o conteúdo das tags encontradas\n",
    "            paragrafos = [p.text for p in p_tags]\n",
    "            noticias_true.append({'noticia': paragrafos, 'label': 'true', 'link': href})\n",
    "            \n",
    "\n",
    "\n",
    "            # Imprime o conteúdo obtido\n",
    "            #print('Parágrafos:', paragrafos)\n",
    "            #print(href)\n",
    "            \n",
    "        except AttributeError:\n",
    "            continue\n",
    "\n",
    "df = pd.DataFrame(noticias_true)\n",
    "df.to_excel('noticias-true.xlsx', index=False)\n",
    "\n"
   ]
  }
 ],
 "metadata": {
  "kernelspec": {
   "display_name": "Artigo",
   "language": "python",
   "name": "python3"
  },
  "language_info": {
   "codemirror_mode": {
    "name": "ipython",
    "version": 3
   },
   "file_extension": ".py",
   "mimetype": "text/x-python",
   "name": "python",
   "nbconvert_exporter": "python",
   "pygments_lexer": "ipython3",
   "version": "3.10.10"
  },
  "orig_nbformat": 4
 },
 "nbformat": 4,
 "nbformat_minor": 2
}
